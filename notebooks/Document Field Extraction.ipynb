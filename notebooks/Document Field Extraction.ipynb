{
 "cells": [
  {
   "cell_type": "markdown",
   "id": "79771c87",
   "metadata": {},
   "source": [
    "### This is a trivial example notebook for Document Field Extraction\n",
    "This is a very simple solution using an LLM."
   ]
  },
  {
   "cell_type": "code",
   "execution_count": 7,
   "id": "7c72669e",
   "metadata": {},
   "outputs": [],
   "source": [
    "import base64\n",
    "from IPython.display import display, HTML\n",
    "\n",
    "import instructor\n",
    "from openai import OpenAI\n",
    "from pydantic import BaseModel"
   ]
  },
  {
   "cell_type": "markdown",
   "id": "6487e24f",
   "metadata": {},
   "source": [
    "### Lets check out a document that we can extract some fields from"
   ]
  },
  {
   "cell_type": "code",
   "execution_count": 8,
   "id": "d0b86e1e",
   "metadata": {},
   "outputs": [
    {
     "data": {
      "text/html": [
       "\n",
       "<div style=\"width: 100%; overflow-x: auto; white-space: nowrap;\">\n",
       "    <img src=\"example_docs/img1.png\" style=\"width: 800px\">\n",
       "</div>\n"
      ],
      "text/plain": [
       "<IPython.core.display.HTML object>"
      ]
     },
     "metadata": {},
     "output_type": "display_data"
    }
   ],
   "source": [
    "img1 = \"example_docs/img1.png\"\n",
    "\n",
    "html_code = f\"\"\"\n",
    "<div style=\"width: 100%; overflow-x: auto; white-space: nowrap;\">\n",
    "    <img src=\"{img1}\" style=\"width: 800px\">\n",
    "</div>\n",
    "\"\"\"\n",
    "display(HTML(html_code))"
   ]
  },
  {
   "cell_type": "markdown",
   "id": "81c9b584",
   "metadata": {},
   "source": [
    "### Setup a client and call ChatGPT"
   ]
  },
  {
   "cell_type": "code",
   "execution_count": 11,
   "id": "c692e100",
   "metadata": {},
   "outputs": [],
   "source": [
    "client = instructor.from_openai(OpenAI())"
   ]
  },
  {
   "cell_type": "code",
   "execution_count": 12,
   "id": "01728c36",
   "metadata": {},
   "outputs": [],
   "source": [
    "class FieldExtraction(BaseModel):\n",
    "    customer_name: str\n",
    "    customer_address: str\n",
    "    products_sold: list\n",
    "    price: float"
   ]
  },
  {
   "cell_type": "code",
   "execution_count": 13,
   "id": "e072a8f7",
   "metadata": {},
   "outputs": [],
   "source": [
    "with open(img1, \"rb\") as f:\n",
    "    encoded_file = base64.b64encode(f.read()).decode(\"utf-8\")\n",
    "completion = client.chat.completions.create(\n",
    "     model=\"gpt-4o\",\n",
    "     response_model=FieldExtraction,\n",
    "     messages=[\n",
    "        {\"role\": \"system\", \"content\": \"Please extract relevant values based on the provided keys.\"},\n",
    "        {\"role\": \"user\", \"content\": {\"type\": \"image_url\", \"image_url\": {\"url\": f\"data:image/png;base64,{encoded_file}\"}}},\n",
    "    ],\n",
    ")\n"
   ]
  },
  {
   "cell_type": "markdown",
   "id": "02392e2e",
   "metadata": {},
   "source": [
    "### Check results"
   ]
  },
  {
   "cell_type": "code",
   "execution_count": 30,
   "id": "ae433cef",
   "metadata": {},
   "outputs": [
    {
     "name": "stdout",
     "output_type": "stream",
     "text": [
      "customer_name: John Smith\n",
      "customer_address: 16040 S. US 27\n",
      "Lansing, Michigan 48906\n",
      "products_sold: ['Brake Discs, Pads & Calipers', 'Control Arm', 'Suspension Lift Kit']\n",
      "price: 2694.3\n"
     ]
    }
   ],
   "source": [
    "for k,v in completion.model_dump().items():\n",
    "    print(f\"{k}: {v}\")"
   ]
  }
 ],
 "metadata": {
  "kernelspec": {
   "display_name": "Python 3 (ipykernel)",
   "language": "python",
   "name": "python3"
  },
  "language_info": {
   "codemirror_mode": {
    "name": "ipython",
    "version": 3
   },
   "file_extension": ".py",
   "mimetype": "text/x-python",
   "name": "python",
   "nbconvert_exporter": "python",
   "pygments_lexer": "ipython3",
   "version": "3.11.4"
  }
 },
 "nbformat": 4,
 "nbformat_minor": 5
}
