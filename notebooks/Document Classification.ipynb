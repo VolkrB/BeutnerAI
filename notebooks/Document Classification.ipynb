{
 "cells": [
  {
   "cell_type": "markdown",
   "id": "bd6c9560",
   "metadata": {},
   "source": [
    "## This is a trivial example notebook for Document Classification\n",
    "This is a very simple solution using an LLM."
   ]
  },
  {
   "cell_type": "code",
   "execution_count": 1,
   "id": "e08bed04",
   "metadata": {},
   "outputs": [],
   "source": [
    "import base64\n",
    "from IPython.display import display, HTML\n",
    "\n",
    "import instructor\n",
    "from openai import OpenAI\n",
    "from pydantic import BaseModel\n",
    "from enum import Enum"
   ]
  },
  {
   "cell_type": "markdown",
   "id": "0b268d2d",
   "metadata": {},
   "source": [
    "### Let's view our example documents"
   ]
  },
  {
   "cell_type": "code",
   "execution_count": 2,
   "id": "900a0cec",
   "metadata": {
    "scrolled": true
   },
   "outputs": [
    {
     "data": {
      "text/html": [
       "\n",
       "<div style=\"width: 100%; overflow-x: auto; white-space: nowrap;\">\n",
       "    <img src=\"example_docs/img1.png\" style=\"width: 800px\">\n",
       "    <img src=\"example_docs/img2.png\" style=\"width: 800px;\">\n",
       "    <img src=\"example_docs/img3.png\" style=\"width: 800px;\">\n",
       "</div>\n"
      ],
      "text/plain": [
       "<IPython.core.display.HTML object>"
      ]
     },
     "metadata": {},
     "output_type": "display_data"
    }
   ],
   "source": [
    "img1 = \"example_docs/img1.png\"\n",
    "img2 = \"example_docs/img2.png\"\n",
    "img3 = \"example_docs/img3.png\"\n",
    "\n",
    "html_code = f\"\"\"\n",
    "<div style=\"width: 100%; overflow-x: auto; white-space: nowrap;\">\n",
    "    <img src=\"{img1}\" style=\"width: 800px\">\n",
    "    <img src=\"{img2}\" style=\"width: 800px;\">\n",
    "    <img src=\"{img3}\" style=\"width: 800px;\">\n",
    "</div>\n",
    "\"\"\"\n",
    "\n",
    "display(HTML(html_code))\n",
    "\n",
    "ground_truth = {img1:\"Purchase Order\", img2: \"Invoice\", img3: \"Tax Form\"}"
   ]
  },
  {
   "cell_type": "markdown",
   "id": "48adbd7c",
   "metadata": {},
   "source": [
    "## Let's use openai's chatgpt-4oto classify these pages"
   ]
  },
  {
   "cell_type": "markdown",
   "id": "26d3fb2c",
   "metadata": {},
   "source": [
    "### First let's write some code to call ChatGPT"
   ]
  },
  {
   "cell_type": "code",
   "execution_count": 3,
   "id": "5509e9b1",
   "metadata": {},
   "outputs": [],
   "source": [
    "client = instructor.from_openai(OpenAI())"
   ]
  },
  {
   "cell_type": "code",
   "execution_count": 4,
   "id": "cdb2e7b3",
   "metadata": {},
   "outputs": [],
   "source": [
    "class DocumentType(str, Enum):\n",
    "    PURCHASE_ORDER = \"Purchase Order\"\n",
    "    INVOICE = \"Invoice\"\n",
    "    TAX_DOCUMENT = \"Tax Document\""
   ]
  },
  {
   "cell_type": "code",
   "execution_count": 5,
   "id": "c335a617",
   "metadata": {},
   "outputs": [],
   "source": [
    "def classifier(img, response_model=DocumentType):\n",
    "    with open(img, \"rb\") as f:\n",
    "        encoded_file = base64.b64encode(f.read()).decode(\"utf-8\")\n",
    "    completion = client.chat.completions.create(\n",
    "        model=\"gpt-4o\",\n",
    "        response_model=response_model,\n",
    "        messages=[\n",
    "            {\"role\": \"system\", \"content\": \"Find the document type.\"},\n",
    "            {\"role\": \"user\", \"content\": {\"type\": \"image_url\", \"image_url\": {\"url\": f\"data:image/png;base64,{encoded_file}\"}}},\n",
    "        ],\n",
    "    )\n",
    "    return completion"
   ]
  },
  {
   "cell_type": "markdown",
   "id": "60de3e36",
   "metadata": {},
   "source": [
    "### Let's double check to see if the results are correct"
   ]
  },
  {
   "cell_type": "code",
   "execution_count": 6,
   "id": "7691fb09",
   "metadata": {},
   "outputs": [
    {
     "name": "stdout",
     "output_type": "stream",
     "text": [
      "The LLM predicted: DocumentType.PURCHASE_ORDER. This document is: Purchase Order\n",
      "The LLM predicted: DocumentType.INVOICE. This document is: Invoice\n",
      "The LLM predicted: DocumentType.TAX_DOCUMENT. This document is: Tax Form\n"
     ]
    }
   ],
   "source": [
    "prediction = classifier(img1)\n",
    "print(f\"The LLM predicted: {prediction}. This document is: {ground_truth[img1]}\")\n",
    "prediction2 = classifier(img2)\n",
    "print(f\"The LLM predicted: {prediction2}. This document is: {ground_truth[img2]}\")\n",
    "prediction3 = classifier(img3)\n",
    "print(f\"The LLM predicted: {prediction3}. This document is: {ground_truth[img3]}\")"
   ]
  },
  {
   "cell_type": "markdown",
   "id": "6ab518fa",
   "metadata": {},
   "source": [
    "### We can add another document type by simply modifying the DocumentType class\n",
    "Let's add an other class which will hopefully collect all documents which are not defined"
   ]
  },
  {
   "cell_type": "code",
   "execution_count": 25,
   "id": "de1b7ac2",
   "metadata": {},
   "outputs": [],
   "source": [
    "img4 = \"example_docs/img4.png\""
   ]
  },
  {
   "cell_type": "code",
   "execution_count": 26,
   "id": "06aa4856",
   "metadata": {},
   "outputs": [
    {
     "data": {
      "text/html": [
       "\n",
       "<div style=\"width: 100%; overflow-x: auto; white-space: nowrap;\">\n",
       "    <img src=\"example_docs/img4.png\" style=\"width: 800px\">\n",
       "</div>\n"
      ],
      "text/plain": [
       "<IPython.core.display.HTML object>"
      ]
     },
     "metadata": {},
     "output_type": "display_data"
    }
   ],
   "source": [
    "html_code = f\"\"\"\n",
    "<div style=\"width: 100%; overflow-x: auto; white-space: nowrap;\">\n",
    "    <img src=\"{img4}\" style=\"width: 800px\">\n",
    "</div>\n",
    "\"\"\"\n",
    "display(HTML(html_code))"
   ]
  },
  {
   "cell_type": "markdown",
   "id": "5325f899",
   "metadata": {},
   "source": [
    "Modify the DocumentType to include \"Other\""
   ]
  },
  {
   "cell_type": "code",
   "execution_count": 27,
   "id": "721d487d",
   "metadata": {},
   "outputs": [],
   "source": [
    "class DocumentType2(str, Enum):\n",
    "    PURCHASE_ORDER = \"Purchase Order\"\n",
    "    INVOICE = \"Invoice\"\n",
    "    TAX_DOCUMENT = \"Tax Document\"\n",
    "    OTHER = \"Other\""
   ]
  },
  {
   "cell_type": "code",
   "execution_count": 28,
   "id": "2518898a",
   "metadata": {},
   "outputs": [
    {
     "data": {
      "text/plain": [
       "<DocumentType2.OTHER: 'Other'>"
      ]
     },
     "execution_count": 28,
     "metadata": {},
     "output_type": "execute_result"
    }
   ],
   "source": [
    "prediction = classifier(img4 ,response_model=DocumentType2)\n",
    "prediction"
   ]
  }
 ],
 "metadata": {
  "kernelspec": {
   "display_name": "Python 3 (ipykernel)",
   "language": "python",
   "name": "python3"
  },
  "language_info": {
   "codemirror_mode": {
    "name": "ipython",
    "version": 3
   },
   "file_extension": ".py",
   "mimetype": "text/x-python",
   "name": "python",
   "nbconvert_exporter": "python",
   "pygments_lexer": "ipython3",
   "version": "3.11.4"
  }
 },
 "nbformat": 4,
 "nbformat_minor": 5
}
